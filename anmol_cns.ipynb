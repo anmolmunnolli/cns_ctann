{
  "nbformat": 4,
  "nbformat_minor": 0,
  "metadata": {
    "colab": {
      "provenance": [],
      "toc_visible": true,
      "authorship_tag": "ABX9TyOWqVSiohCMC7UqW//QIHKl",
      "include_colab_link": true
    },
    "kernelspec": {
      "name": "ir",
      "display_name": "R"
    },
    "language_info": {
      "name": "R"
    }
  },
  "cells": [
    {
      "cell_type": "markdown",
      "metadata": {
        "id": "view-in-github",
        "colab_type": "text"
      },
      "source": [
        "<a href=\"https://colab.research.google.com/github/anmolmunnolli/cns_ctann/blob/main/anmol_cns.ipynb\" target=\"_parent\"><img src=\"https://colab.research.google.com/assets/colab-badge.svg\" alt=\"Open In Colab\"/></a>"
      ]
    },
    {
      "cell_type": "code",
      "source": [
        "\n",
        "# Install required packages from GitHub\n",
        "if (!requireNamespace(\"devtools\", quietly = TRUE)) install.packages(\"devtools\")\n",
        "devtools::install_github(\"satijalab/seurat\", ref = \"seurat5\")\n",
        "devtools::install_github(\"satijalab/seurat-data\", ref = \"seurat5\")\n",
        "devtools::install_github(\"satijalab/azimuth\", ref = \"seurat5\")\n",
        "\n",
        "# Load the libraries\n",
        "library(Seurat)\n",
        "library(SeuratData)\n",
        "library(Azimuth)\n",
        "\n",
        "# Load your h5ad file into a Seurat object\n",
        "# Replace 'path_to_your_file/your_file.h5ad' with the actual path to your h5ad file\n",
        "query <- LoadH5AD(\"path_to_your_file/your_file.h5ad\")\n",
        "\n",
        "# Run Azimuth to annotate cell types\n",
        "# Replace 'reference_name' with the appropriate reference for your data\n",
        "# Common references include \"pbmcref\" for PBMC data or \"humancortexref\" for human cortex data\n",
        "query <- RunAzimuth(query, reference = \"reference_name\")\n",
        "\n",
        "# View the annotated cell types\n",
        "head(query[[]])\n",
        "\n",
        "# Save the annotated Seurat object\n",
        "saveRDS(query, file = \"annotated_query.rds\")\n"
      ],
      "metadata": {
        "id": "84KPgdh4rzOO",
        "colab": {
          "base_uri": "https://localhost:8080/"
        },
        "outputId": "13b72df9-412d-4166-9186-77d18987ac9a"
      },
      "execution_count": null,
      "outputs": [
        {
          "output_type": "stream",
          "name": "stderr",
          "text": [
            "Downloading GitHub repo satijalab/seurat@seurat5\n",
            "\n"
          ]
        },
        {
          "output_type": "stream",
          "name": "stdout",
          "text": [
            "sitmo        (NA -> 2.0.2    ) [CRAN]\n",
            "BH           (NA -> 1.87.0-1 ) [CRAN]\n",
            "RcppEigen    (NA -> 0.3.4.0.2) [CRAN]\n",
            "spatstat.... (NA -> 3.1-2    ) [CRAN]\n",
            "tensor       (NA -> 1.5      ) [CRAN]\n",
            "abind        (NA -> 1.4-8    ) [CRAN]\n",
            "polyclip     (NA -> 1.10-7   ) [CRAN]\n",
            "deldir       (NA -> 2.0-4    ) [CRAN]\n",
            "spatstat.... (NA -> 3.3-5    ) [CRAN]\n",
            "spatstat.... (NA -> 3.1-1    ) [CRAN]\n",
            "spatstat.... (NA -> 3.1-4    ) [CRAN]\n",
            "plyr         (NA -> 1.8.9    ) [CRAN]\n",
            "parallelly   (NA -> 1.42.0   ) [CRAN]\n",
            "listenv      (NA -> 0.9.1    ) [CRAN]\n",
            "globals      (NA -> 0.16.3   ) [CRAN]\n",
            "future       (NA -> 1.34.0   ) [CRAN]\n",
            "bitops       (NA -> 1.0-9    ) [CRAN]\n",
            "caTools      (NA -> 1.18.3   ) [CRAN]\n",
            "gtools       (NA -> 3.9.5    ) [CRAN]\n",
            "lazyeval     (NA -> 0.2.2    ) [CRAN]\n",
            "png          (NA -> 0.1-8    ) [CRAN]\n",
            "here         (NA -> 1.0.1    ) [CRAN]\n",
            "RcppTOML     (NA -> 0.2.2    ) [CRAN]\n",
            "dotCall64    (NA -> 1.2      ) [CRAN]\n",
            "RcppProgress (NA -> 0.4.2    ) [CRAN]\n",
            "dqrng        (NA -> 0.4.1    ) [CRAN]\n",
            "RSpectra     (NA -> 0.16-2   ) [CRAN]\n",
            "RcppAnnoy    (NA -> 0.0.22   ) [CRAN]\n",
            "irlba        (NA -> 2.3.5.1  ) [CRAN]\n",
            "FNN          (NA -> 1.1.4.1  ) [CRAN]\n",
            "goftest      (NA -> 1.2-3    ) [CRAN]\n",
            "spatstat.... (NA -> 3.1-0    ) [CRAN]\n",
            "spatstat.... (NA -> 3.3-2    ) [CRAN]\n",
            "RcppArmad... (NA -> 14.2.3-1 ) [CRAN]\n",
            "matrixStats  (NA -> 1.5.0    ) [CRAN]\n",
            "gridExtra    (NA -> 2.3      ) [CRAN]\n",
            "reshape2     (NA -> 1.4.4    ) [CRAN]\n",
            "future.apply (NA -> 1.11.3   ) [CRAN]\n",
            "gplots       (NA -> 3.2.0    ) [CRAN]\n",
            "crosstalk    (NA -> 1.2.1    ) [CRAN]\n",
            "zoo          (NA -> 1.8-12   ) [CRAN]\n",
            "igraph       (NA -> 2.1.4    ) [CRAN]\n",
            "reticulate   (NA -> 1.40.0   ) [CRAN]\n",
            "spam         (NA -> 2.11-1   ) [CRAN]\n",
            "progressr    (NA -> 0.15.1   ) [CRAN]\n",
            "sp           (NA -> 2.2-0    ) [CRAN]\n",
            "uwot         (NA -> 0.2.2    ) [CRAN]\n",
            "spatstat.... (NA -> 3.3-4    ) [CRAN]\n",
            "sctransform  (NA -> 0.4.1    ) [CRAN]\n",
            "scattermore  (NA -> 1.2      ) [CRAN]\n",
            "Rtsne        (NA -> 0.17     ) [CRAN]\n",
            "ROCR         (NA -> 1.0-11   ) [CRAN]\n",
            "RcppHNSW     (NA -> 0.6.0    ) [CRAN]\n",
            "RANN         (NA -> 2.6.2    ) [CRAN]\n",
            "plotly       (NA -> 4.10.4   ) [CRAN]\n",
            "pbapply      (NA -> 1.7-2    ) [CRAN]\n",
            "patchwork    (NA -> 1.3.0    ) [CRAN]\n",
            "lmtest       (NA -> 0.9-40   ) [CRAN]\n",
            "leiden       (NA -> 0.4.3.1  ) [CRAN]\n",
            "ica          (NA -> 1.0-3    ) [CRAN]\n",
            "ggridges     (NA -> 0.5.6    ) [CRAN]\n",
            "ggrepel      (NA -> 0.9.6    ) [CRAN]\n",
            "fitdistrplus (NA -> 1.2-2    ) [CRAN]\n",
            "fastDummies  (NA -> 1.7.5    ) [CRAN]\n",
            "cowplot      (NA -> 1.1.3    ) [CRAN]\n",
            "SeuratObject (NA -> 5.0.2    ) [CRAN]\n"
          ]
        },
        {
          "output_type": "stream",
          "name": "stderr",
          "text": [
            "Installing 66 packages: sitmo, BH, RcppEigen, spatstat.utils, tensor, abind, polyclip, deldir, spatstat.geom, spatstat.univar, spatstat.data, plyr, parallelly, listenv, globals, future, bitops, caTools, gtools, lazyeval, png, here, RcppTOML, dotCall64, RcppProgress, dqrng, RSpectra, RcppAnnoy, irlba, FNN, goftest, spatstat.sparse, spatstat.random, RcppArmadillo, matrixStats, gridExtra, reshape2, future.apply, gplots, crosstalk, zoo, igraph, reticulate, spam, progressr, sp, uwot, spatstat.explore, sctransform, scattermore, Rtsne, ROCR, RcppHNSW, RANN, plotly, pbapply, patchwork, lmtest, leiden, ica, ggridges, ggrepel, fitdistrplus, fastDummies, cowplot, SeuratObject\n",
            "\n",
            "Installing packages into ‘/usr/local/lib/R/site-library’\n",
            "(as ‘lib’ is unspecified)\n",
            "\n"
          ]
        }
      ]
    },
    {
      "cell_type": "code",
      "source": [],
      "metadata": {
        "id": "KvQhL1LixGPD"
      },
      "execution_count": null,
      "outputs": []
    }
  ]
}